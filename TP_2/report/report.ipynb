{
 "cells": [
  {
   "cell_type": "markdown",
   "metadata": {
    "slideshow": {
     "slide_type": "slide"
    }
   },
   "source": [
    "# TP 2: segmentation and classification of PreTest signals\n",
    "Balthazar Neveu\n",
    "\n",
    "Topics:\n",
    "-  Noisy labels\n",
    "-  Imbalanced dataset\n",
    "-  Feature extraction\n",
    "-  Dimension reduction"
   ]
  },
  {
   "cell_type": "markdown",
   "metadata": {
    "slideshow": {
     "slide_type": "slide"
    }
   },
   "source": [
    "### Problem statement\n",
    "\n",
    "![profiles classification](figures/normalized_profiles_analyzis.png)\n",
    "\n",
    "- Classify a set of pressure profiles.\n",
    "  - 🟢 Green: normal  $\\text{label}=1$\n",
    "  - 🔴 Red: Tight $\\text{label}=0$"
   ]
  },
  {
   "cell_type": "markdown",
   "metadata": {
    "slideshow": {
     "slide_type": "slide"
    }
   },
   "source": [
    "#### Exploration: Reparameterization and handcrafted features\n",
    "\n",
    "![profiles classification minus trend](figures/normalized_profiles_analyzis_minus_trend.png)\n",
    "\n",
    "- Remove the \"identity trend\"\n",
    "- Maximum value of these curves looks like a good discriminator."
   ]
  },
  {
   "cell_type": "markdown",
   "metadata": {
    "slideshow": {
     "slide_type": "subslide"
    }
   },
   "source": [
    "#### Exploration: Handcrafted feature\n",
    "\n",
    "![profiles classification](figures/histogram_of_features.png)\n",
    "\n",
    "- Histogram of this handcrafted feature for the 2 labelled classes.\n",
    "- A simple threshold around 0.7 could be enough to discriminate these 2 classes. Simple to compute, yet seems efficient."
   ]
  },
  {
   "cell_type": "markdown",
   "metadata": {
    "slideshow": {
     "slide_type": "slide"
    }
   },
   "source": [
    "#### Exploration: PCA\n",
    "- When we apply a principal component analyzis to the raw curves, we're able to see 2 clusters appear in the 2D eigen cofficient space.\n",
    "- Each pressure curve made of 200 samples has been mapped to a single 2D vector.\n",
    "- Knowing the labels, 2 obvious clusters appear.\n",
    " \n",
    "![pca](figures/pca_curves.png)"
   ]
  },
  {
   "cell_type": "markdown",
   "metadata": {
    "slideshow": {
     "slide_type": "subslide"
    }
   },
   "source": [
    "##### 2D Gaussian Fitting\n",
    "\n",
    "![gaussian fit](figures/pca_curves_gmm_fit_1mode.png)\n",
    "\n",
    "- If we reproject the centroid back into the original pressure curve space, we can see that these curves are pretty representative of the 2 distributions in the original space.\n",
    "- These are simple combinations of the 2 eigenvectors.\n",
    "\n",
    "![gaussian fit reproj](figures/pca_curves_gmm_fit_reproj_1mode.png)\n",
    "\n",
    "---------\n",
    "\n",
    "*Please note that [`scikitlearn`](https://scikit-learn.org/stable/modules/generated/sklearn.decomposition.PCA.html) applies a mean centering to perform PCA* "
   ]
  },
  {
   "cell_type": "markdown",
   "metadata": {
    "slideshow": {
     "slide_type": "subslide"
    }
   },
   "source": [
    "##### Fitting a Gaussian Mixture Models\n",
    "\n",
    "![gaussian fit 2 modes](figures/pca_curves_gmm_fit.png)\n",
    "\n",
    "![gaussian fit 2 modes reproj](figures/pca_curves_gmm_fit_reproj.png)\n"
   ]
  }
 ],
 "metadata": {
  "kernelspec": {
   "display_name": "Python 3",
   "language": "python",
   "name": "python3"
  },
  "language_info": {
   "name": "python",
   "version": "3.10.12"
  }
 },
 "nbformat": 4,
 "nbformat_minor": 2
}
