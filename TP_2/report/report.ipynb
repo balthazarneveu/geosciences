{
 "cells": [
  {
   "cell_type": "markdown",
   "metadata": {
    "slideshow": {
     "slide_type": "slide"
    }
   },
   "source": [
    "# TP 2: segmentation and classification of PreTest signals\n",
    "Balthazar Neveu\n",
    "\n",
    "Topics:\n",
    "-  Noisy labels\n",
    "-  Imbalanced dataset\n",
    "-  Feature extraction\n",
    "-  Dimension reduction"
   ]
  },
  {
   "cell_type": "markdown",
   "metadata": {
    "slideshow": {
     "slide_type": "slide"
    }
   },
   "source": [
    "### Problem statement\n",
    "- Classify a set of pressure profiles.\n",
    "  - 🟢 Green: normal  $\\text{label}=1$\n",
    "  - 🔴 Red: Tight $\\text{label}=0$\n",
    "![profiles classification](figures/normalized_profiles_analyzis.png)\n"
   ]
  },
  {
   "cell_type": "markdown",
   "metadata": {
    "slideshow": {
     "slide_type": "subslide"
    }
   },
   "source": [
    "### Exploration: Reparameterization\n",
    "- Remove the \"identity trend\"\n",
    "- Maximum value of these curves looks like a good discriminator.\n",
    "![profiles classification minus trend](figures/normalized_profiles_analyzis_minus_trend.png)"
   ]
  },
  {
   "cell_type": "markdown",
   "metadata": {},
   "source": [
    "### Exploration: Handcrafted featur\n",
    "- Remove the \"identity trend\"\n",
    "- Maximum value of these curves looks like a good discriminator. \n",
    "![profiles classification](figures/histogram_of_features.png)\n",
    "- Histogram of this handcrafted feature."
   ]
  },
  {
   "cell_type": "markdown",
   "metadata": {},
   "source": []
  }
 ],
 "metadata": {
  "kernelspec": {
   "display_name": "Python 3",
   "language": "python",
   "name": "python3"
  },
  "language_info": {
   "name": "python",
   "version": "3.10.12"
  }
 },
 "nbformat": 4,
 "nbformat_minor": 2
}
