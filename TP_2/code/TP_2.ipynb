{
 "cells": [
  {
   "cell_type": "markdown",
   "metadata": {},
   "source": [
    "# TP 2: segmentation and classification of PreTest signals\n",
    "Topics:\n",
    "-  Noisy labels\n",
    "-  Imbalanced dataset\n",
    "-  Feature extraction\n",
    "-  Dimension reduction"
   ]
  },
  {
   "cell_type": "code",
   "execution_count": null,
   "metadata": {},
   "outputs": [],
   "source": [
    "%load_ext autoreload\n",
    "%autoreload 2\n",
    "from data_exploration import get_data, prepare_data\n",
    "import matplotlib.pyplot as plt\n",
    "import numpy as np\n",
    "from data_analyzis import get_pressure_pca, plot_pressure_pca, plot_gmm_fit_pca"
   ]
  },
  {
   "cell_type": "code",
   "execution_count": null,
   "metadata": {},
   "outputs": [],
   "source": [
    "data = get_data()\n",
    "pressure, labels = prepare_data(data)"
   ]
  },
  {
   "cell_type": "code",
   "execution_count": null,
   "metadata": {},
   "outputs": [],
   "source": [
    "plt.figure(figsize=(10,10))\n",
    "for press, label in zip(pressure, labels):\n",
    "    plt.plot(press, \"g-\" if label==1 else \"r-\", alpha=0.1)\n",
    "plt.xlabel(\"Normalized temporal index\")\n",
    "plt.ylabel(\"Normalized pressure measurements\")\n",
    "plt.title(\"Labelled Normalized pressure measurements for all runs\\nGreen: Normal, Red: Faulty\")\n",
    "plt.grid()\n",
    "plt.show()"
   ]
  },
  {
   "cell_type": "markdown",
   "metadata": {},
   "source": [
    "# Preliminary data analyzis"
   ]
  },
  {
   "cell_type": "code",
   "execution_count": null,
   "metadata": {},
   "outputs": [],
   "source": [
    "plt.figure(figsize=(10,10))\n",
    "for press, label in zip(pressure, labels):\n",
    "    plt.plot(press - np.linspace(0, 1, len(press)), \"g-\" if label==1 else \"r-\", alpha=0.1)\n",
    "plt.xlabel(\"Normalized temporal index\")\n",
    "plt.ylabel(\"Normalized pressure measurements\")\n",
    "plt.title(\"Pressure measurements after major trend removal\\nGreen: Normal, Red: Faulty\")\n",
    "plt.grid()\n",
    "plt.show()"
   ]
  },
  {
   "cell_type": "code",
   "execution_count": null,
   "metadata": {},
   "outputs": [],
   "source": [
    "plt.figure(figsize=(10,10))\n",
    "pos, neg = [], []\n",
    "for press, label in zip(pressure, labels):\n",
    "    max_feature = np.max(press - np.linspace(0, 1, len(press)))\n",
    "    if label == 1:\n",
    "        pos.append(max_feature)\n",
    "    else:\n",
    "        neg.append(max_feature)\n",
    "plt.hist(pos, bins=30, alpha=0.5, label=\"Normal\", color=\"green\")\n",
    "plt.hist(neg, bins=30, alpha=0.5, label=\"Faulty\", color=\"red\")\n",
    "plt.title(\"Histogram of an handcrafted feature: Max on pressure profile after trend removal\\nGreen: Normal, Red: Faulty\")\n",
    "plt.grid()\n",
    "plt.show()"
   ]
  },
  {
   "cell_type": "code",
   "execution_count": null,
   "metadata": {},
   "outputs": [],
   "source": [
    "pressure_pca, pca = get_pressure_pca(pressure)\n",
    "plot_pressure_pca(pressure_pca, labels)"
   ]
  },
  {
   "cell_type": "code",
   "execution_count": null,
   "metadata": {},
   "outputs": [],
   "source": [
    "plot_gmm_fit_pca(pressure, pressure_pca, labels, pca)"
   ]
  }
 ],
 "metadata": {
  "kernelspec": {
   "display_name": "Python 3",
   "language": "python",
   "name": "python3"
  },
  "language_info": {
   "codemirror_mode": {
    "name": "ipython",
    "version": 3
   },
   "file_extension": ".py",
   "mimetype": "text/x-python",
   "name": "python",
   "nbconvert_exporter": "python",
   "pygments_lexer": "ipython3",
   "version": "3.10.12"
  }
 },
 "nbformat": 4,
 "nbformat_minor": 2
}
