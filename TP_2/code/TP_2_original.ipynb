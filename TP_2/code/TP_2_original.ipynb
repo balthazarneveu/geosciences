{
 "cells": [
  {
   "cell_type": "markdown",
   "metadata": {},
   "source": [
    "# TP 2: segmentation and classification of PreTest signals\n",
    "Topics:\n",
    "-  Noisy labels\n",
    "-  Imbalanced dataset\n",
    "-  Feature extraction\n",
    "-  Dimension reduction"
   ]
  },
  {
   "cell_type": "code",
   "execution_count": null,
   "metadata": {},
   "outputs": [],
   "source": [
    "import json\n",
    "import pandas as pd\n",
    "import numpy as np\n",
    "from sklearn.neighbors import KNeighborsClassifier\n",
    "from sklearn.model_selection import train_test_split\n",
    "from sklearn.metrics import confusion_matrix\n",
    "import plotly.graph_objects as go\n",
    "from sklearn.manifold import TSNE"
   ]
  },
  {
   "cell_type": "markdown",
   "metadata": {},
   "source": [
    "## Classification"
   ]
  },
  {
   "cell_type": "code",
   "execution_count": null,
   "metadata": {},
   "outputs": [],
   "source": [
    "with open('buildups_public.json', 'r') as f:\n",
    "    buildups_json = json.load(f)\n",
    "list(buildups_json[0].keys())"
   ]
  },
  {
   "cell_type": "code",
   "execution_count": null,
   "metadata": {},
   "outputs": [],
   "source": [
    "buildup_pressure = [p['buildup_pressure'] for p in buildups_json]\n",
    "labels = [p['buildup_label'] for p in buildups_json]\n",
    "labels = [0 if l=='Tight' else 1 for l in labels]\n",
    "len(buildup_pressure)"
   ]
  },
  {
   "cell_type": "markdown",
   "metadata": {},
   "source": [
    "### Interpolate so that every pressure test has a length of 200"
   ]
  },
  {
   "cell_type": "code",
   "execution_count": null,
   "metadata": {},
   "outputs": [],
   "source": [
    "pressure_interp = []\n",
    "#for p in buildup_pressure:\n",
    "    ####################\n",
    "    #pressure_interp.append(p_interp)\n",
    "    "
   ]
  },
  {
   "cell_type": "markdown",
   "metadata": {},
   "source": [
    "### Normalization"
   ]
  },
  {
   "cell_type": "code",
   "execution_count": null,
   "metadata": {},
   "outputs": [],
   "source": [
    "# pretests_normalized = "
   ]
  },
  {
   "cell_type": "markdown",
   "metadata": {},
   "source": [
    "### NaN values?"
   ]
  },
  {
   "cell_type": "markdown",
   "metadata": {},
   "source": [
    "### Visualization\n",
    "-  All the pressure in 1 single plot (normal: green, tight: red)\n",
    "-  Dimension reduction (PCA, manually; TSNE)"
   ]
  },
  {
   "cell_type": "markdown",
   "metadata": {},
   "source": [
    "## Adding noisy labels"
   ]
  },
  {
   "cell_type": "code",
   "execution_count": null,
   "metadata": {},
   "outputs": [],
   "source": [
    "np.random.seed(0) \n",
    "index = np.random.choice(len(pretests_normalized), int(0.2*len(pretests_normalized)))\n",
    "pretests_noisy_labels = np.copy(pretests_normalized)\n",
    "labels_noisy = np.copy(labels)\n",
    "print(index)\n",
    "labels_noisy[index] = 1-labels_noisy[index]"
   ]
  },
  {
   "cell_type": "markdown",
   "metadata": {},
   "source": [
    "## Imbalanced datasets"
   ]
  },
  {
   "cell_type": "code",
   "execution_count": null,
   "metadata": {},
   "outputs": [],
   "source": [
    "pretests_imbalanced = np.copy(pretests_normalized)\n",
    "labels_imbalanced = np.copy(labels)\n",
    "\n",
    "index_sort = np.argsort(labels_imbalanced)\n",
    "labels_imbalanced = labels_imbalanced[index_sort]\n",
    "pretests_imbalanced = pretests_imbalanced[index_sort]\n",
    "\n",
    "num_tight = np.sum(labels_imbalanced == 0)\n",
    "num_normal = np.sum(labels_imbalanced == 1)\n",
    "\n",
    "# we would like num_tight/(num_tight+num_normal) = 0.4\n",
    "rate = 0.2\n",
    "num_skipped = num_tight - int(num_normal*rate/(1-rate))\n",
    "\n",
    "pretests_imbalanced = pretests_imbalanced[num_skipped:]\n",
    "labels_imbalanced = labels_imbalanced[num_skipped:]"
   ]
  },
  {
   "cell_type": "markdown",
   "metadata": {},
   "source": [
    "## Models\n",
    "-  Several models\n",
    "-  Hyperparameter tuning\n",
    "-  Results in function of noisy rate and imbalanced rate"
   ]
  },
  {
   "cell_type": "code",
   "execution_count": null,
   "metadata": {},
   "outputs": [],
   "source": [
    "# Feature extraction"
   ]
  },
  {
   "cell_type": "code",
   "execution_count": null,
   "metadata": {},
   "outputs": [],
   "source": [
    "train_buildup, test_buildup, train_label, test_lable = train_test_split(pretests_normalized, labels)\n",
    "#model = #"
   ]
  },
  {
   "cell_type": "markdown",
   "metadata": {},
   "source": [
    "## Confusion matrix"
   ]
  },
  {
   "cell_type": "code",
   "execution_count": null,
   "metadata": {},
   "outputs": [],
   "source": []
  }
 ],
 "metadata": {
  "kernelspec": {
   "display_name": "Python 3 (ipykernel)",
   "language": "python",
   "name": "python3"
  },
  "language_info": {
   "codemirror_mode": {
    "name": "ipython",
    "version": 3
   },
   "file_extension": ".py",
   "mimetype": "text/x-python",
   "name": "python",
   "nbconvert_exporter": "python",
   "pygments_lexer": "ipython3",
   "version": "3.10.11"
  },
  "vscode": {
   "interpreter": {
    "hash": "3d70ac84696da5b6f7c4ce3b33c61255a2cd7aa98cd2c3618d0d7ac4d7ceb223"
   }
  }
 },
 "nbformat": 4,
 "nbformat_minor": 4
}
