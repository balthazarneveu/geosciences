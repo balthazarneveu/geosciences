{
 "cells": [
  {
   "cell_type": "markdown",
   "metadata": {},
   "source": [
    "# Marker detection"
   ]
  },
  {
   "cell_type": "markdown",
   "metadata": {},
   "source": [
    "## Data loading"
   ]
  },
  {
   "cell_type": "code",
   "execution_count": null,
   "metadata": {},
   "outputs": [],
   "source": [
    "import numpy as np\n",
    "import matplotlib.pyplot as plt \n",
    "from report.data_exploration import *\n",
    "%load_ext autoreload\n",
    "%autoreload 2"
   ]
  },
  {
   "cell_type": "code",
   "execution_count": null,
   "metadata": {},
   "outputs": [],
   "source": [
    "df_logs, df_loc, df_tops, well_names = get_data()\n",
    "\n",
    "with open(\"markers_training.pkl\", 'rb') as f:\n",
    "    dict_markers = pickle.load(f)\n",
    "print(\", \".join(dict_markers.keys()))"
   ]
  },
  {
   "cell_type": "markdown",
   "metadata": {},
   "source": [
    "### Meta data\n",
    "###### :question: Visualize the data in a interactive map where you can locate each well\n",
    "---------------"
   ]
  },
  {
   "cell_type": "code",
   "execution_count": null,
   "metadata": {},
   "outputs": [],
   "source": [
    "locate_wells(df_loc)"
   ]
  },
  {
   "cell_type": "markdown",
   "metadata": {},
   "source": [
    "## Data visualization"
   ]
  },
  {
   "cell_type": "markdown",
   "metadata": {},
   "source": [
    "### Channels\n",
    "\n",
    "###### :question: Visualize the data: intensity (histogram, range), time series (spikes? noise?)\n",
    "###### :question: What do you observe? \n",
    "---------------\n",
    "#####  :mag: Observations\n",
    "- A few spikes (negative number) which we clamp to zero to avoid visualization issues - Probably measurement outliers. Could be set to `np.NaN` or masked. \n",
    "- Most of the \"interesting events\" happen at high depths.\n",
    "- Visually, it seems like the shallow signal is mostly noise (<6km). \n",
    "- The noisy shallow area could be a good area of interest to calibrate a denoising system"
   ]
  },
  {
   "cell_type": "code",
   "execution_count": null,
   "metadata": {},
   "outputs": [],
   "source": [
    "plot_well(df_logs, well_names[:20])"
   ]
  },
  {
   "cell_type": "markdown",
   "metadata": {},
   "source": [
    "\n",
    "###### :question: Do we have constant depth sampling rate? what should you do if not?\n",
    "---------------\n",
    "\n",
    "#####  :mag:  Depth sampling rate\n",
    "- We have access to a constant sampling rate (period=0.5m).\n",
    "- If the depth sampling rate was not constant accross , we could resample (use `np.interp`) but special care shall be taken. If we had a mix of low and high frequencies, it's more complicated (either you resample everything to the lowest frequency + take special care of aliasing.. but you may loose information. you could also try to interpolate (~ oversample) the lowest frequencies but the high frequencies may simply not be faithful. \n"
   ]
  },
  {
   "cell_type": "code",
   "execution_count": null,
   "metadata": {},
   "outputs": [],
   "source": [
    "all_lengths = [len(depths) for depths in dict_markers[\"depths\"]]\n",
    "min_lengths = min(all_lengths)\n",
    "min_lengths\n",
    "\n",
    "depths = dict_markers[\"depths\"]\n",
    "for idx in range(depths.shape[0]):\n",
    "    all_depths = depths[idx]\n",
    "    depth_step = all_depths[1:]- all_depths[:-1]\n",
    "    plt.plot(depth_step, \"o-\", alpha=0.5)\n",
    "plt.ylim(0., 1.)\n",
    "plt.grid()\n",
    "plt.show()\n"
   ]
  },
  {
   "cell_type": "markdown",
   "metadata": {},
   "source": [
    "### Annotations\n",
    "\n",
    "###### :question:  How many classes do you have?\n",
    "---------------\n",
    "\n",
    "\n",
    "##### :mag: Depth of markers exploration\n",
    "- 3 classes (Marcel - Sylvain - Conrad ... ordered by increasing depth) for each well. \n",
    "- Seems like we observe the same depth histogram basically 3 times with an offset.\n",
    "- If there is a relationship between the 3 depths, we should be able to see it on the 2 histograms of differences \n",
    "\n",
    "\n",
    "\n"
   ]
  },
  {
   "cell_type": "code",
   "execution_count": null,
   "metadata": {},
   "outputs": [],
   "source": [
    "top_depths = np.array(dict_markers[\"top_depths\"])\n",
    "plt.figure(figsize=(5,5))\n",
    "for top_idx, top in enumerate(dict_markers[\"top_names\"]):\n",
    "    plt.hist(top_depths[:,top_idx], bins=100, label=top)\n",
    "plt.grid()\n",
    "plt.legend()\n",
    "plt.title(\"Histogram of events depths\")\n",
    "plt.show()"
   ]
  },
  {
   "cell_type": "markdown",
   "metadata": {},
   "source": [
    "###### :question: Is the dataset balanced? do we have 3 markers per well?\n",
    "---------------\n",
    "#####  :mag:  Weakly labeled data\n",
    "- Sometimes labels are missing (`depth=NaN`)\n",
    "- We can plot the histograms of each class to check dataset balance."
   ]
  },
  {
   "cell_type": "code",
   "execution_count": null,
   "metadata": {},
   "outputs": [],
   "source": [
    "counts = (~np.isnan(top_depths)).sum(axis=0)\n",
    "print(counts)\n",
    "plt.figure(figsize=(5,5))\n",
    "plt.bar(dict_markers[\"top_names\"], counts, color = ['lightblue', 'orange', 'green'])\n",
    "plt.title(f\"Number of labelled marker per type of marker {counts}\")\n",
    "plt.grid()\n",
    "plt.show()"
   ]
  },
  {
   "cell_type": "markdown",
   "metadata": {},
   "source": [
    "\n",
    "###### :question:  Do we have always the same order? \n",
    "---------------"
   ]
  },
  {
   "cell_type": "markdown",
   "metadata": {},
   "source": [
    "##### :mag: Relative depth\n",
    "- Let's plot the histogram of differences of (=relative) between the events depths\n",
    "- Looks like if we find one of the events, we almost know where the search the other ones from the distribution."
   ]
  },
  {
   "cell_type": "code",
   "execution_count": null,
   "metadata": {},
   "outputs": [],
   "source": [
    "plt.figure(figsize=(5,5))\n",
    "plt.hist(top_depths[:,1]-top_depths[:,0], bins=100, label=\"CONRAD - MARCEL\")\n",
    "plt.hist(top_depths[:,2]-top_depths[:,1], bins=100, label=\"SYLVAIN - CONRAD\")\n",
    "plt.grid()\n",
    "plt.legend()\n",
    "plt.title(\"Histogram of relative depths between events\")\n",
    "plt.show()"
   ]
  },
  {
   "cell_type": "markdown",
   "metadata": {},
   "source": [
    "###### :question:  Display the patterns corresponding to each class, on a same graph. Do you see any specific pattern? How much variation (shape, amplitude)?\n",
    "---------------\n",
    "\n",
    "#### :mag: Patterns"
   ]
  },
  {
   "cell_type": "code",
   "execution_count": null,
   "metadata": {},
   "outputs": [],
   "source": [
    "top_indexes = np.array(dict_markers[\"top_index\"]) #.astype(int)\n",
    "neighborhood = 100\n",
    "signal = dict_markers[\"logs\"]\n",
    "for top_type_index, top_type in enumerate(dict_markers[\"top_names\"]):\n",
    "    for well_index in range(30):\n",
    "        idx_top = top_indexes[well_index][top_type_index]\n",
    "        if np.isnan(idx_top):\n",
    "            continue\n",
    "        idx_top = int(idx_top)\n",
    "        plt.plot(signal[well_index][idx_top-neighborhood: idx_top+neighborhood].clip(0,None), \"-\", alpha=0.5)\n",
    "    plt.title(top_type)\n",
    "    plt.grid()\n",
    "    plt.show()"
   ]
  },
  {
   "cell_type": "markdown",
   "metadata": {},
   "source": [
    "Let's normalize the patterns (whiten) and look at various neighborhoods."
   ]
  },
  {
   "cell_type": "code",
   "execution_count": null,
   "metadata": {},
   "outputs": [],
   "source": [
    "top_indexes = np.array(dict_markers[\"top_index\"]) #.astype(int)\n",
    "for neighborhood in [50, 100, 200]:\n",
    "    total_signals  = 20\n",
    "    signal = dict_markers[\"logs\"]\n",
    "    depths = dict_markers[\"depths\"]\n",
    "    plt.figure(figsize=(15,5))\n",
    "    for top_type_index, top_type in enumerate(dict_markers[\"top_names\"]):\n",
    "        plt.subplot(1,3,top_type_index+1)\n",
    "        for well_index in range(total_signals):\n",
    "            idx_top = top_indexes[well_index][top_type_index]\n",
    "            if np.isnan(idx_top):\n",
    "                continue\n",
    "            idx_top = int(idx_top)\n",
    "            sig = signal[well_index][idx_top-neighborhood: idx_top+neighborhood].clip(0,None)\n",
    "            sig = (sig - sig.mean())/(sig.std()+1e-10)\n",
    "            extracted_depths = depths[well_index][idx_top-neighborhood: idx_top+neighborhood]\n",
    "            plt.plot(extracted_depths-depths[well_index][idx_top], sig, \"-\", alpha=0.5)\n",
    "        plt.xlabel(\"Relative depth around marker\")\n",
    "        plt.plot([0,0], [-3 ,3], \"k--\", alpha=0.5, label=\"Marker location\")\n",
    "        plt.ylim(-3,3)\n",
    "        plt.legend()\n",
    "        plt.title(top_type)\n",
    "        plt.grid()\n",
    "    plt.suptitle(f\"{total_signals} marker patterns visualized in a {2*neighborhood} depth neighborhood\")\n",
    "    plt.show()"
   ]
  },
  {
   "cell_type": "code",
   "execution_count": null,
   "metadata": {},
   "outputs": [],
   "source": [
    "top_indexes = np.array(dict_markers[\"top_index\"])\n",
    "for total_signals in [20, 100, 600]:\n",
    "    neighborhood = 64\n",
    "    signal = dict_markers[\"logs\"]\n",
    "    depths = dict_markers[\"depths\"]\n",
    "    plt.figure(figsize=(15,5))\n",
    "    for top_type_index, top_type in enumerate(dict_markers[\"top_names\"]):\n",
    "        plt.subplot(1,3,top_type_index+1)\n",
    "        for well_index in range(total_signals):\n",
    "            idx_top = top_indexes[well_index][top_type_index]\n",
    "            if np.isnan(idx_top):\n",
    "                continue\n",
    "            idx_top = int(idx_top)\n",
    "            sig = signal[well_index][idx_top-neighborhood: idx_top+neighborhood].clip(0,None)\n",
    "            sig = (sig - sig.mean())/(sig.std()+1e-10)\n",
    "            extracted_depths = depths[well_index][idx_top-neighborhood: idx_top+neighborhood]\n",
    "            plt.plot(extracted_depths-depths[well_index][idx_top], sig, \"-\", alpha=0.5)\n",
    "        plt.xlabel(\"Relative depth around marker\")\n",
    "        plt.plot([0,0], [-3 ,3], \"k--\", alpha=0.5, label=\"Marker location\")\n",
    "        plt.ylim(-3,3)\n",
    "        plt.legend()\n",
    "        plt.title(top_type)\n",
    "        plt.grid()\n",
    "    plt.suptitle(f\"{total_signals} marker patterns visualized in a {2*neighborhood} depth neighborhood\")\n",
    "    plt.show()"
   ]
  },
  {
   "cell_type": "markdown",
   "metadata": {},
   "source": [
    "### Inference code\n",
    "- You are now provided several signature per markers. \n",
    "- Implement the inference code, the evaluation code\n",
    "- Quantify the results on the test set: compare several distance metrics\n",
    "- Improve the results: offset well analysis, ordering."
   ]
  },
  {
   "cell_type": "code",
   "execution_count": null,
   "metadata": {},
   "outputs": [],
   "source": [
    "from report.patterns_extraction import get_marker_data, extract_markers_logs, find_template_patterns\n",
    "%load_ext autoreload\n",
    "%autoreload 2\n",
    "dict_markers = get_marker_data()\n",
    "dict_patterns = extract_markers_logs(dict_markers)"
   ]
  },
  {
   "cell_type": "code",
   "execution_count": null,
   "metadata": {},
   "outputs": [],
   "source": [
    "find_template_patterns(dict_patterns)"
   ]
  },
  {
   "cell_type": "code",
   "execution_count": null,
   "metadata": {},
   "outputs": [],
   "source": []
  }
 ],
 "metadata": {
  "kernelspec": {
   "display_name": "Python 3 (ipykernel)",
   "language": "python",
   "name": "python3"
  },
  "language_info": {
   "codemirror_mode": {
    "name": "ipython",
    "version": 3
   },
   "file_extension": ".py",
   "mimetype": "text/x-python",
   "name": "python",
   "nbconvert_exporter": "python",
   "pygments_lexer": "ipython3",
   "version": "3.10.12"
  }
 },
 "nbformat": 4,
 "nbformat_minor": 2
}
