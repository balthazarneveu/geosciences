{
 "cells": [
  {
   "cell_type": "code",
   "execution_count": null,
   "metadata": {},
   "outputs": [],
   "source": [
    "from plane_cylinder_projections import *\n",
    "from visualizations import (plot_ground_truth_3d, validation_of_3d_tangent_estimation, show_borehole_image,\n",
    "                            show_gradients_magnitudes, plot_tangents_and_gradients_field, plot_3d_scatter, COLORS)\n",
    "from simulations import DEFAULT_PLANE_ANGLES, create_planes_projection, simulated_splat_image, get_3d_tangent_estimation\n",
    "from image_processing import extract_2d_gradients_from_image\n",
    "from constants import *\n",
    "import matplotlib.pyplot as plt\n",
    "import numpy as np\n",
    "from skimage import filters\n",
    "from plane_extraction import get_cross_products\n",
    "%load_ext autoreload\n",
    "%autoreload 2\n"
   ]
  },
  {
   "cell_type": "markdown",
   "metadata": {},
   "source": [
    "| Plane and normal $\\vec{p}$ | Plane normal vector dip $\\delta$ , azimuth $\\alpha$ |\n",
    "| :--: |  :--: | \n",
    "|  ![](report/plane_normal_definition.png) | ![](report/normal_definition.png) |\n",
    "\n",
    "- If $\\delta=0$, horizontal slice ($alpha$ is not informative by the way), we'll get a line in the images\n",
    "- If $\\delta=90°$, vertical plane (corresponds to infinite amplitude oscillation = vertical line)."
   ]
  },
  {
   "cell_type": "code",
   "execution_count": null,
   "metadata": {},
   "outputs": [],
   "source": [
    "# First, let's define some groundtruth planes (dip, azimut)\n",
    "mixed_slices = [\"crazy\", \"parallel\", \"parallel_slight_noise\", \"demo\"][2]\n",
    "if mixed_slices == \"crazy\":\n",
    "    plane_angle = torch.tensor(\n",
    "        [\n",
    "            [0., 0.,  -0.3],\n",
    "            [torch.pi/4, torch.pi/4, 0.],\n",
    "            [0.8*torch.pi/2., torch.pi/4, -1.],\n",
    "            [0.9*torch.pi/2., torch.pi/3, -0.5],\n",
    "            [0.1, torch.pi/2, -1.2],\n",
    "        ]\n",
    "    )\n",
    "elif mixed_slices == \"parallel\":\n",
    "    plane_angle = torch.tensor(\n",
    "        [\n",
    "            [torch.pi/4, torch.pi/4, 0.],\n",
    "            [torch.pi/4, torch.pi/4, -0.3],\n",
    "            [torch.pi/4, torch.pi/4, -0.6],\n",
    "            [torch.pi/4, torch.pi/4, -0.8],\n",
    "        ]\n",
    "    )\n",
    "elif mixed_slices == \"parallel_slight_noise\":\n",
    "    plane_angle = torch.tensor(\n",
    "        [\n",
    "            [0.99*torch.pi/4, torch.pi/4, -0.2],\n",
    "            [torch.pi/4, 0.99*torch.pi/4, -0.3],\n",
    "            [1.02*torch.pi/4, torch.pi/4, -0.6],\n",
    "            [torch.pi/4, 1.01*torch.pi/4, -0.8],\n",
    "        ]\n",
    "    )\n",
    "elif mixed_slices == \"demo\":\n",
    "    plane_angle = torch.tensor(\n",
    "    [\n",
    "        [0.0, 0., -0.1],\n",
    "        [0.1, 0., -0.3],\n",
    "        [0.1, 0.5, -0.4],\n",
    "        [0.3, 0., -0.5],\n",
    "        [0.5, 0., -0.7],\n",
    "        [0.5, -0.5, -0.8],\n",
    "    ]\n",
    "    )"
   ]
  },
  {
   "cell_type": "code",
   "execution_count": null,
   "metadata": {},
   "outputs": [],
   "source": [
    "normals = angles_to_normal_vector(plane_angle)\n",
    "plot_3d_scatter(point_cloud=None, vects=normals)"
   ]
  },
  {
   "cell_type": "code",
   "execution_count": null,
   "metadata": {},
   "outputs": [],
   "source": [
    "# Let's sample the azimuth coordinates and compute the altitude of the planes\n",
    "azimuth_coordinates_phi, altitude_z = create_planes_projection(plane_angle)\n",
    "p3D_gt = angle_to_3d_vector(azimuth_coordinates_phi, altitude_z=altitude_z) # [N, L, 3]\n"
   ]
  },
  {
   "cell_type": "code",
   "execution_count": null,
   "metadata": {},
   "outputs": [],
   "source": [
    "plot_ground_truth_3d(\n",
    "    azimuth_coordinates_phi,\n",
    "    altitude_z,\n",
    "    p3D_gt\n",
    ")"
   ]
  },
  {
   "cell_type": "code",
   "execution_count": null,
   "metadata": {},
   "outputs": [],
   "source": [
    "groundtruth_grad_list_3d = get_3d_tangent_estimation(azimuth_coordinates_phi, altitude_z)"
   ]
  },
  {
   "cell_type": "code",
   "execution_count": null,
   "metadata": {},
   "outputs": [],
   "source": [
    "# Computation of the tangent vectors using the jacobian of `image_vector_to_3d_plane_tangent`\n",
    "# Not normalized!\n",
    "validation_of_3d_tangent_estimation(\n",
    "    azimuth_coordinates_phi,\n",
    "    groundtruth_grad_list_3d,\n",
    "    p3D_gt=p3D_gt,\n",
    "    batches_index=[2]\n",
    ")"
   ]
  },
  {
   "cell_type": "code",
   "execution_count": null,
   "metadata": {},
   "outputs": [],
   "source": [
    "plot_3d_scatter(groundtruth_grad_list_3d[:, ::5, :], label=\"Plane tangents\", title=\"Plane tangents (ground truth)\") #.shape\n"
   ]
  },
  {
   "cell_type": "code",
   "execution_count": null,
   "metadata": {},
   "outputs": [],
   "source": [
    "cross_product_gt, cross_product_norm_gt = get_cross_products(groundtruth_grad_list_3d, num_points=1000)\n",
    "# cross_product_gt = cross_product_gt*torch.sign(cross_product_gt[..., 2].unsqueeze(-1))\n",
    "plot_3d_scatter(\n",
    "    cross_product_gt,\n",
    "    vects=normals,\n",
    "    alpha=0.01,\n",
    "    # colors=\"tab:cyan\",\n",
    "    label=\"Randomized Cross Products [GROUND TRUTH]\",\n",
    "    label_vector=\"Normal plane vector (ground truth)\",\n",
    "    title=\"Randomized Cross product of estimated tangents [GROUND TRUTH]\"\n",
    ")\n"
   ]
  },
  {
   "cell_type": "code",
   "execution_count": null,
   "metadata": {},
   "outputs": [],
   "source": [
    "dip_az_gt = normal_vector_to_angles(cross_product_gt)\n",
    "for batch_idx in range(dip_az_gt.shape[0]):\n",
    "    color = COLORS[batch_idx%len(COLORS)]\n",
    "    plt.plot(plane_angle[batch_idx, 0], plane_angle[batch_idx, 1], marker=\"+\",  color=color, markersize=10, label=\"Ground truth plane angles\")\n",
    "    plt.scatter(dip_az_gt[batch_idx, :, 0], dip_az_gt[batch_idx, :, 1], color=color, marker=\".\", alpha=0.1, label=\"Estimated plane angles\")\n",
    "plt.grid()\n",
    "plt.xlabel(\"Dip angle\")\n",
    "plt.ylabel(\"Azimuth angle\")\n"
   ]
  },
  {
   "cell_type": "markdown",
   "metadata": {},
   "source": [
    "# Images\n",
    "- 1/ Synthesize a borehole image with planar sections (and a bit of noise) from the known groundtruth orientations.\n",
    "- 2/ Detect and select areas of relevant gradients. Extract a list of 2D gradient vectors (and tengeants) and their corresponding 2D locations.\n",
    "- 3/ Project these 2D locations onto the 3D cylinder, find the 3D tangeant.\n",
    "- 4/ Extract the plane normals by randomly sampling the 3D tangent vectors and computing the cross products "
   ]
  },
  {
   "cell_type": "code",
   "execution_count": null,
   "metadata": {},
   "outputs": [],
   "source": [
    "img = simulated_splat_image(azimuth_coordinates_phi, altitude_z)\n",
    "show_borehole_image(img)"
   ]
  },
  {
   "cell_type": "code",
   "execution_count": null,
   "metadata": {},
   "outputs": [],
   "source": [
    "img_grad =filters.sobel(img)\n",
    "show_gradients_magnitudes(img_grad)"
   ]
  },
  {
   "cell_type": "code",
   "execution_count": null,
   "metadata": {},
   "outputs": [],
   "source": [
    "img_grad_h, img_grad_v, img_grad, coords = extract_2d_gradients_from_image(img)"
   ]
  },
  {
   "cell_type": "code",
   "execution_count": null,
   "metadata": {},
   "outputs": [],
   "source": [
    "plot_tangents_and_gradients_field(coords, img_grad_h, img_grad_v, img)"
   ]
  },
  {
   "cell_type": "code",
   "execution_count": null,
   "metadata": {},
   "outputs": [],
   "source": [
    "# Compute the correctly scaled tangent vectors (in SI units, angles in radians, altitudes in meters)\n",
    "tan_vec_2d = get_tangent_vec_from_gradients(img_grad_h, img_grad_v, normalize=False)"
   ]
  },
  {
   "cell_type": "code",
   "execution_count": null,
   "metadata": {},
   "outputs": [],
   "source": [
    "img_coords = torch.from_numpy(coords).float()\n",
    "p3D_est = angle_to_3d_vector(np.deg2rad(img_coords[:, 1]), -img_coords[:, 0]*DEPTH_STEP).unsqueeze(0)"
   ]
  },
  {
   "cell_type": "code",
   "execution_count": null,
   "metadata": {},
   "outputs": [],
   "source": [
    "plot_3d_scatter(p3D_est[:, ::5], title=\"Estimated 3D locations of high gradients\", alpha=0.2)"
   ]
  },
  {
   "cell_type": "code",
   "execution_count": null,
   "metadata": {},
   "outputs": [],
   "source": [
    "# Compute the 3D tangent vectors (and normalize)\n",
    "img_coords = torch.from_numpy(coords).float()\n",
    "p3D_est = angle_to_3d_vector(np.deg2rad(img_coords[:, 1]), -img_coords[:, 0]*DEPTH_STEP).unsqueeze(0)\n",
    "\n",
    "azi_list = torch.deg2rad(img_coords[:, 1]).unsqueeze(0)\n",
    "alt_list = -img_coords[:, 0]*DEPTH_STEP\n",
    "tangent = np.array([\n",
    "    -img_grad_v, # y \n",
    "    img_grad_h,\n",
    "]).T\n",
    "tangent.shape\n",
    "tangents_3d = []\n",
    "for idx in range(azi_list.shape[1]):\n",
    "    azi = azi_list[0, idx]\n",
    "    alt = alt_list[idx]\n",
    "    delta_azi = tan_vec_2d[idx, 0]\n",
    "    delta_alt = tan_vec_2d[idx, 1]\n",
    "    tan3d = image_vector_to_3d_plane_tangent(azi, alt, delta_azi, delta_alt)\n",
    "    tan3d = tan3d / tan3d.norm() # normalize the 3D tangent\n",
    "    tangents_3d.append(tan3d)\n",
    "tangents_3d = torch.stack(tangents_3d, dim=0).unsqueeze(0)"
   ]
  },
  {
   "cell_type": "code",
   "execution_count": null,
   "metadata": {},
   "outputs": [],
   "source": [
    "cross_product_estimated, cross_product_norm_estim = get_cross_products(tangents_3d, num_points=10000)"
   ]
  },
  {
   "cell_type": "code",
   "execution_count": null,
   "metadata": {},
   "outputs": [],
   "source": [
    "dip_az_estim = normal_vector_to_angles(cross_product_estimated)\n",
    "for batch_idx in range(plane_angle.shape[0]):\n",
    "    color = COLORS[batch_idx%len(COLORS)]\n",
    "    plt.plot(plane_angle[batch_idx, 0], plane_angle[batch_idx, 1], marker=\"+\",  color=color, markersize=10, label=\"Ground truth plane angles\")\n",
    "for batch_idx in range(dip_az_estim.shape[0]):\n",
    "    plt.scatter(dip_az_estim[batch_idx, :, 0], dip_az_estim[batch_idx, :, 1], color=color, marker=\".\", alpha=0.1, label=\"Estimated plane angles\")\n",
    "plt.grid()\n",
    "plt.xlabel(\"Dip angle\")\n",
    "plt.ylabel(\"Azimuth angle\")"
   ]
  },
  {
   "cell_type": "code",
   "execution_count": null,
   "metadata": {},
   "outputs": [],
   "source": [
    "plot_3d_scatter(\n",
    "    point_cloud=cross_product_estimated,\n",
    "    # sizes=cross_product_norm_estim,\n",
    "    # vectors = normals,\n",
    "    vects=normals,\n",
    "    alpha=0.01,\n",
    "    # fixed=\"tab:cyan\",\n",
    "    label=\"Randomized Cross Products\",\n",
    "    label_vector=\"Normal plane vector (ground truth)\",\n",
    "    title=\"Randomized Cross product of estimated tangents\")"
   ]
  },
  {
   "cell_type": "code",
   "execution_count": null,
   "metadata": {},
   "outputs": [],
   "source": [
    "tangent3d = (p3D_gt[..., 1:, :] - p3D_gt[..., :-1, :])\n",
    "tangent3d = tangent3d / tangent3d.norm(dim=-1, keepdim=True)\n",
    "plt.figure(figsize=(10, 10))\n",
    "for dim_idx, dim_name, dim_color  in zip(range(3), \"xyz\", \"rgb\"): \n",
    "    for batch_idx in range(azimuth_coordinates_phi.shape[0]):\n",
    "        plt.plot(\n",
    "            torch.rad2deg(azimuth_coordinates_phi[batch_idx, :-1]),\n",
    "            tangent3d[batch_idx,  :, dim_idx],\n",
    "            \"-\",\n",
    "            color=dim_color,\n",
    "            linewidth=4, alpha=1.,\n",
    "            label=f\"GT tangent {dim_name} BATCH {batch_idx}\"\n",
    "        )\n",
    "    for batch_idx in range(azi_list.shape[0]):\n",
    "        plt.plot(torch.rad2deg(azi_list[batch_idx]), -tangents_3d[batch_idx, :, dim_idx], \".\"+dim_color, label=f\"tangent {dim_name}\", alpha=0.1)\n",
    "plt.xlabel(\"Azimuth (degrees)\")\n",
    "plt.ylabel(\"3D Tangent\")\n",
    "plt.legend()\n",
    "plt.grid()\n",
    "plt.title(\"Estimated 3D tangents vs Groundtruth 3D tangents\")\n",
    "plt.show()"
   ]
  }
 ],
 "metadata": {
  "kernelspec": {
   "display_name": "Python 3",
   "language": "python",
   "name": "python3"
  },
  "language_info": {
   "codemirror_mode": {
    "name": "ipython",
    "version": 3
   },
   "file_extension": ".py",
   "mimetype": "text/x-python",
   "name": "python",
   "nbconvert_exporter": "python",
   "pygments_lexer": "ipython3",
   "version": "3.10.12"
  }
 },
 "nbformat": 4,
 "nbformat_minor": 2
}
